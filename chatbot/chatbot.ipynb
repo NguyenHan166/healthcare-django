{
 "cells": [
  {
   "cell_type": "code",
   "execution_count": null,
   "id": "7c74af7d",
   "metadata": {},
   "outputs": [],
   "source": [
    "import pandas as pd\n",
    "import numpy as np\n",
    "from sklearn.model_selection import train_test_split\n",
    "from sklearn.metrics import accuracy_score, classification_report\n",
    "from sklearn.preprocessing import LabelEncoder\n",
    "import tensorflow as tf\n",
    "from tensorflow.keras.models import Sequential\n",
    "from tensorflow.keras.layers import Dense, Dropout\n",
    "from tensorflow.keras.callbacks import EarlyStopping\n",
    "\n",
    "# Loading the dataset\n",
    "data = pd.read_csv(\"dataset.csv\")\n",
    "\n",
    "# Cleaning the dataset\n",
    "data = data.loc[:, ~data.columns.str.contains('Unnamed')]\n",
    "data = data.dropna(axis=1, how='all')\n",
    "data.fillna(0, inplace=True)\n",
    "\n",
    "# Separating features and target\n",
    "X = data.drop('disease', axis=1)\n",
    "y = data['disease']\n",
    "\n",
    "# Encoding labels\n",
    "label_encoder = LabelEncoder()\n",
    "y_encoded = label_encoder.fit_transform(y)\n",
    "\n",
    "# Converting features to numeric\n",
    "X = X.apply(pd.to_numeric, errors='coerce').fillna(0)\n",
    "\n",
    "# Splitting the dataset\n",
    "X_train, X_test, y_train, y_test = train_test_split(X, y_encoded, test_size=0.2, random_state=42, stratify=y_encoded)\n",
    "\n",
    "# Building the MLP model\n",
    "model = Sequential([\n",
    "    Dense(128, activation='relu', input_shape=(X.shape[1],)),\n",
    "    Dropout(0.3),\n",
    "    Dense(64, activation='relu'),\n",
    "    Dropout(0.3),\n",
    "    Dense(len(label_encoder.classes_), activation='softmax')\n",
    "])\n"
   ]
  }
 ],
 "metadata": {
  "kernelspec": {
   "display_name": "Python 3",
   "language": "python",
   "name": "python3"
  },
  "language_info": {
   "name": "python",
   "version": "3.12.8"
  }
 },
 "nbformat": 4,
 "nbformat_minor": 5
}
